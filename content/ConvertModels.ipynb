{
 "cells": [
  {
   "cell_type": "markdown",
   "id": "ff7fca79",
   "metadata": {},
   "source": [
    "this script is using for convert model to dreambooth training\n",
    "\n",
    "please put model follow the structure\n",
    "\n",
    "```\n",
    "/models/[modelname]/model.ckpt\n",
    "/models/[modelname]/config.json\n",
    "/models/animevae.pt\n",
    "```\n",
    "\n",
    "the output will save to /convertModels/[modelname]"
   ]
  },
  {
   "cell_type": "code",
   "execution_count": null,
   "id": "e9a74def",
   "metadata": {},
   "outputs": [],
   "source": [
    "#declare your model name\n",
    "modelName = \"animefull-final-pruned\"\n",
    "\n",
    "#default models location\n",
    "originalModels = \"/models\"\n",
    "convertModels = \"/convertModels\"\n",
    "\n",
    "# if not need vae, comment it\n",
    "vae_arg = f\"--vae_path {originalModels}/animevae.pt\"\n",
    "\n",
    "#--------default variable\n",
    "SRC_PATH = originalModels + \"/\" + modelName\n",
    "MODEL_NAME = convertModels + \"/\" + modelName"
   ]
  },
  {
   "cell_type": "code",
   "execution_count": null,
   "id": "e2f01d0c",
   "metadata": {},
   "outputs": [],
   "source": [
    "CONVERTER = \"diffusers/scripts/convert_original_stable_diffusion_to_diffusers.py\"\n",
    "!echo \"Converting model...\"\n",
    "!python $CONVERTER --checkpoint_path $SRC_PATH/model.ckpt --original_config_file $SRC_PATH/config.yaml $vae_arg --dump_path $MODEL_NAME --scheduler_type ddim\n",
    "!echo \"Done\""
   ]
  },
  {
   "cell_type": "markdown",
   "id": "21d05741",
   "metadata": {},
   "source": [
    "if completed, please close the kernel on \"File > Close and Halt\""
   ]
  },
  {
   "cell_type": "markdown",
   "id": "928d32db",
   "metadata": {},
   "source": [
    "## Misc\n"
   ]
  },
  {
   "cell_type": "code",
   "execution_count": null,
   "id": "525e7154",
   "metadata": {},
   "outputs": [],
   "source": [
    "!git clone https://github.com/CCRcmcpe/diffusers.git"
   ]
  },
  {
   "cell_type": "code",
   "execution_count": null,
   "id": "5d5df82d",
   "metadata": {},
   "outputs": [],
   "source": []
  }
 ],
 "metadata": {
  "kernelspec": {
   "display_name": "Python 3 (ipykernel)",
   "language": "python",
   "name": "python3"
  },
  "language_info": {
   "codemirror_mode": {
    "name": "ipython",
    "version": 3
   },
   "file_extension": ".py",
   "mimetype": "text/x-python",
   "name": "python",
   "nbconvert_exporter": "python",
   "pygments_lexer": "ipython3",
   "version": "3.8.10"
  }
 },
 "nbformat": 4,
 "nbformat_minor": 5
}
